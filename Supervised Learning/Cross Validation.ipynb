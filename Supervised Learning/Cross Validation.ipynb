{
 "cells": [
  {
   "cell_type": "markdown",
   "metadata": {},
   "source": [
    "<a href src=\"https://medium.com/@ramamurthi96/cross-validation-explained-694a98476bce\">Source</a>"
   ]
  },
  {
   "cell_type": "code",
   "execution_count": null,
   "metadata": {},
   "outputs": [],
   "source": []
  }
 ],
 "metadata": {
  "kernelspec": {
   "display_name": "Python 3.10.4 64-bit",
   "language": "python",
   "name": "python3"
  },
  "language_info": {
   "name": "python",
   "version": "3.10.4"
  },
  "orig_nbformat": 4,
  "vscode": {
   "interpreter": {
    "hash": "405d13d09847d50ecc6343eff00cc7200d674373355acea1c385012d3714c1ef"
   }
  }
 },
 "nbformat": 4,
 "nbformat_minor": 2
}
