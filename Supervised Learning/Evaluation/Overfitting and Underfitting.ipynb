{
 "cells": [
  {
   "cell_type": "markdown",
   "metadata": {},
   "source": [
    "# Overfitting and Underfitting"
   ]
  },
  {
   "cell_type": "markdown",
   "metadata": {},
   "source": [
    "<img src='https://miro.medium.com/max/700/1*9DtauyXaQFAOi31Pp1XQUg.png'>\n",
    "<img src='https://miro.medium.com/max/700/1*D_BYes9MMdkxyVFSnG2fAw.png'>\n",
    "<br>\n",
    "Source : <a href='https://towardsdatascience.com/overfitting-and-underfitting-principles-ea8964d9c45c#:~:text=Underfitting%20means%20that%20your%20model,val%2Ftest%20error%20is%20large.'>Overfitting & Underfitting</a>"
   ]
  },
  {
   "cell_type": "code",
   "execution_count": null,
   "metadata": {},
   "outputs": [],
   "source": [
    "from sklearn.model_selection import train_test_split\n",
    "\n",
    "X, y = 0,1\n",
    "\n",
    "model_name = 'Logistic Regression'\n",
    "\n",
    "X_train, X_test, y_train, y_test = train_test_split(X, y, test_size=0.2, random_state=0)"
   ]
  },
  {
   "cell_type": "code",
   "execution_count": null,
   "metadata": {},
   "outputs": [],
   "source": [
    "#Check for overfitting and underfitting Achieved by evaluating the scores on training and test set\n",
    "from sklearn import metrics\n",
    "from sklearn.metrics import accuracy_score,f1_score\n",
    "\n",
    "y_pred_train = model_name.predict(X_train)\n",
    "print('Training-set accuracy score:{0:0.4f}'.format(accuracy_score(y_train, y_pred_train) ))\n",
    "\n",
    "y_pred_test = model_name.predict(X_test)\n",
    "print('testing-set accuracy score:{0:0.4f}'.format(accuracy_score(y_test, y_pred_test) ))\n",
    "\n",
    "\n",
    "print('Training set score: {:.4f}'.format(model_name.score(X_train, y_train) ))\n",
    "print('Test set score: {:.4f}'.format(model_name.score(X_test, y_test) ))\n",
    "\n",
    "difference=abs(model_name.score(X_test, y_test)-model_name.score(X_train, y_train))\n",
    "print(\"\\nDifference: \", difference)\n",
    "\n"
   ]
  }
 ],
 "metadata": {
  "kernelspec": {
   "display_name": "Python 3.10.4 64-bit",
   "language": "python",
   "name": "python3"
  },
  "language_info": {
   "name": "python",
   "version": "3.10.4"
  },
  "orig_nbformat": 4,
  "vscode": {
   "interpreter": {
    "hash": "405d13d09847d50ecc6343eff00cc7200d674373355acea1c385012d3714c1ef"
   }
  }
 },
 "nbformat": 4,
 "nbformat_minor": 2
}
