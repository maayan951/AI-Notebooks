{
 "cells": [
  {
   "cell_type": "markdown",
   "metadata": {},
   "source": [
    "# Difference Between `Classification` and `Regression` in Machine Learning"
   ]
  },
  {
   "cell_type": "markdown",
   "metadata": {},
   "source": [
    "Fundamentally, classification is about predicting a label and regression is about predicting a quantity."
   ]
  },
  {
   "cell_type": "markdown",
   "metadata": {},
   "source": [
    "# Table of contents\n",
    "    1. Function Approximation\n",
    "    2. Classification\n",
    "    3. Regression\n",
    "    4. Classification vs Regression\n",
    "    5. Converting Between Classification and Regression Problems"
   ]
  },
  {
   "cell_type": "markdown",
   "metadata": {},
   "source": [
    "***"
   ]
  },
  {
   "cell_type": "markdown",
   "metadata": {},
   "source": [
    "## Function Approximation\n",
    "Predictive modeling is the problem of developing a model using historical data to make a prediction on new data where we do not have the answer.\n",
    "\n",
    "Predictive modeling can be described as the mathematical problem of approximating a mapping function (f) from input variables (X) to output variables (y). This is called the problem of function approximation.\n",
    "\n",
    "The job of the modeling algorithm is to find the best mapping function we can given the time and resources available.\n",
    "\n",
    "For more on approximating functions in applied machine learning, see the post:\n",
    "\n",
    "Generally, we can divide all function approximation tasks into classification tasks and regression tasks."
   ]
  },
  {
   "cell_type": "markdown",
   "metadata": {},
   "source": [
    "***"
   ]
  },
  {
   "cell_type": "markdown",
   "metadata": {},
   "source": [
    "## Classification Predictive Modeling\n",
    "Classification predictive modeling is the task of approximating a mapping function (f) from input variables (X) to discrete output variables (y).\n",
    "\n",
    "The output variables are often called labels or categories. The mapping function predicts the class or category for a given observation.\n",
    "\n",
    "For example, an email of text can be classified as belonging to one of two classes: “spam“ and “not spam“.\n",
    "\n",
    "A classification problem requires that examples be classified into one of two or more classes.\n",
    "A classification can have real-valued or discrete input variables.\n",
    "A problem with two classes is often called a two-class or binary classification problem.\n",
    "A problem with more than two classes is often called a multi-class classification problem.\n",
    "A problem where an example is assigned multiple classes is called a multi-label classification problem.\n",
    "It is common for classification models to predict a continuous value as the probability of a given example belonging to each output class. The probabilities can be interpreted as the likelihood or confidence of a given example belonging to each class. A predicted probability can be converted into a class value by selecting the class label that has the highest probability.\n",
    "\n",
    "For example, a specific email of text may be assigned the probabilities of 0.1 as being “spam” and 0.9 as being “not spam”. We can convert these probabilities to a class label by selecting the “not spam” label as it has the highest predicted likelihood.\n",
    "\n",
    "There are many ways to estimate the skill of a classification predictive model, but perhaps the most common is to calculate the classification accuracy.\n",
    "\n",
    "The classification accuracy is the percentage of correctly classified examples out of all predictions made.\n",
    "\n",
    "For example, if a classification predictive model made 5 predictions and 3 of them were correct and 2 of them were incorrect, then the classification accuracy of the model based on just these predictions would be:\n",
    "\n",
    "1\n",
    "2\n",
    "3\n",
    "accuracy = correct predictions / total predictions * 100\n",
    "accuracy = 3 / 5 * 100\n",
    "accuracy = 60%\n",
    "An algorithm that is capable of learning a classification predictive model is called a classification algorithm."
   ]
  },
  {
   "cell_type": "markdown",
   "metadata": {},
   "source": [
    "***"
   ]
  },
  {
   "cell_type": "markdown",
   "metadata": {},
   "source": [
    "## Regression Predictive Modeling\n",
    "Regression predictive modeling is the task of approximating a mapping function (f) from input variables (X) to a continuous output variable (y).\n",
    "\n",
    "A continuous output variable is a real-value, such as an integer or floating point value. These are often quantities, such as amounts and sizes.\n",
    "\n",
    "For example, a house may be predicted to sell for a specific dollar value, perhaps in the range of 100,000to200,000.\n",
    "\n",
    "A regression problem requires the prediction of a quantity.\n",
    "A regression can have real valued or discrete input variables.\n",
    "A problem with multiple input variables is often called a multivariate regression problem.\n",
    "A regression problem where input variables are ordered by time is called a time series forecasting problem.\n",
    "Because a regression predictive model predicts a quantity, the skill of the model must be reported as an error in those predictions.\n",
    "\n",
    "There are many ways to estimate the skill of a regression predictive model, but perhaps the most common is to calculate the root mean squared error, abbreviated by the acronym RMSE.\n",
    "\n",
    "For example, if a regression predictive model made 2 predictions, one of 1.5 where the expected value is 1.0 and another of 3.3 and the expected value is 3.0, then the RMSE would be:\n",
    "\n",
    "1\n",
    "2\n",
    "3\n",
    "4\n",
    "5\n",
    "RMSE = sqrt(average(error^2))\n",
    "RMSE = sqrt(((1.0 - 1.5)^2 + (3.0 - 3.3)^2) / 2)\n",
    "RMSE = sqrt((0.25 + 0.09) / 2)\n",
    "RMSE = sqrt(0.17)\n",
    "RMSE = 0.412\n",
    "A benefit of RMSE is that the units of the error score are in the same units as the predicted value.\n",
    "\n",
    "An algorithm that is capable of learning a regression predictive model is called a regression algorithm.\n",
    "\n",
    "Some algorithms have the word “regression” in their name, such as linear regression and logistic regression, which can make things confusing because linear regression is a regression algorithm whereas logistic regression is a classification algorithm."
   ]
  },
  {
   "cell_type": "markdown",
   "metadata": {},
   "source": [
    "***"
   ]
  },
  {
   "cell_type": "markdown",
   "metadata": {},
   "source": [
    "## Classification vs Regression\n",
    "Classification predictive modeling problems are different from regression predictive modeling problems.\n",
    "\n",
    "Classification is the task of predicting a discrete class label.\n",
    "Regression is the task of predicting a continuous quantity.\n",
    "There is some overlap between the algorithms for classification and regression; for example:\n",
    "\n",
    "A classification algorithm may predict a continuous value, but the continuous value is in the form of a probability for a class label.\n",
    "A regression algorithm may predict a discrete value, but the discrete value in the form of an integer quantity.\n",
    "Some algorithms can be used for both classification and regression with small modifications, such as decision trees and artificial neural networks. Some algorithms cannot, or cannot easily be used for both problem types, such as linear regression for regression predictive modeling and logistic regression for classification predictive modeling.\n",
    "\n",
    "Importantly, the way that we evaluate classification and regression predictions varies and does not overlap, for example:\n",
    "\n",
    "Classification predictions can be evaluated using accuracy, whereas regression predictions cannot.\n",
    "Regression predictions can be evaluated using root mean squared error, whereas classification predictions cannot."
   ]
  },
  {
   "cell_type": "markdown",
   "metadata": {},
   "source": [
    "***"
   ]
  },
  {
   "cell_type": "markdown",
   "metadata": {},
   "source": [
    "## Convert Between Classification and Regression Problems\n",
    "In some cases, it is possible to convert a regression problem to a classification problem. For example, the quantity to be predicted could be converted into discrete buckets.\n",
    "\n",
    "For example, amounts in a continuous range between 0and100 could be converted into 2 buckets:\n",
    "\n",
    "Class 0: 0to49\n",
    "Class 1: 50to100\n",
    "This is often called discretization and the resulting output variable is a classification where the labels have an ordered relationship (called ordinal).\n",
    "\n",
    "In some cases, a classification problem can be converted to a regression problem. For example, a label can be converted into a continuous range.\n",
    "\n",
    "Some algorithms do this already by predicting a probability for each class that in turn could be scaled to a specific range:\n",
    "\n",
    "1\n",
    "quantity = min + probability * range\n",
    "Alternately, class values can be ordered and mapped to a continuous range:\n",
    "\n",
    "0to49 for Class 1\n",
    "50to100 for Class 2\n",
    "If the class labels in the classification problem do not have a natural ordinal relationship, the conversion from classification to regression may result in surprising or poor performance as the model may learn a false or non-existent mapping from inputs to the continuous output range."
   ]
  },
  {
   "cell_type": "markdown",
   "metadata": {},
   "source": [
    "***"
   ]
  },
  {
   "cell_type": "markdown",
   "metadata": {},
   "source": [
    "## Summary\n",
    "In this tutorial, you discovered the difference between classification and regression problems.\n",
    "\n",
    "Specifically, you learned:\n",
    "\n",
    "That predictive modeling is about the problem of learning a mapping function from inputs to outputs called function approximation.\n",
    "That classification is the problem of predicting a discrete class label output for an example.\n",
    "That regression is the problem of predicting a continuous quantity output for an example."
   ]
  }
 ],
 "metadata": {
  "kernelspec": {
   "display_name": "Python 3.10.4 64-bit",
   "language": "python",
   "name": "python3"
  },
  "language_info": {
   "name": "python",
   "version": "3.10.4"
  },
  "orig_nbformat": 4,
  "vscode": {
   "interpreter": {
    "hash": "939696d70912113cfba5abfc38042432dae0b1972083a020fa8012dfb8da49d0"
   }
  }
 },
 "nbformat": 4,
 "nbformat_minor": 2
}
