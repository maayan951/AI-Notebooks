{
 "cells": [
  {
   "cell_type": "markdown",
   "metadata": {},
   "source": [
    "## *Imports*"
   ]
  },
  {
   "cell_type": "code",
   "execution_count": 1,
   "metadata": {},
   "outputs": [],
   "source": [
    "import numpy as np\n",
    "import pandas as pd\n",
    "from sklearn.neighbors import KNeighborsClassifier\n",
    "from sklearn.model_selection import train_test_split\n",
    "from sklearn.metrics import classification_report, ConfusionMatrixDisplay, accuracy_score\n",
    "#from sklearn.metrics import plot_confusion_matrix #depreciated"
   ]
  },
  {
   "cell_type": "code",
   "execution_count": 2,
   "metadata": {},
   "outputs": [
    {
     "name": "stdout",
     "output_type": "stream",
     "text": [
      "start:  (10000, 10) (10000,)\n"
     ]
    }
   ],
   "source": [
    "from sklearn.datasets import make_classification    #for generating fake data\n",
    "X, y = make_classification(n_samples=10000, n_features=10,n_informative=3)\n",
    "print(\"start: \",X.shape, y.shape)"
   ]
  },
  {
   "cell_type": "code",
   "execution_count": 3,
   "metadata": {},
   "outputs": [
    {
     "name": "stdout",
     "output_type": "stream",
     "text": [
      "train:  (8000, 10) (8000,)\n",
      "test:   (2000, 10) (2000,)\n"
     ]
    }
   ],
   "source": [
    "X_train,X_test,y_train,y_test=train_test_split(X,y,test_size=0.2, random_state = 42)\n",
    "print(\"train: \", X_train.shape, y_train.shape)\n",
    "print(\"test:  \" , X_test.shape, y_test.shape)"
   ]
  },
  {
   "cell_type": "code",
   "execution_count": 4,
   "metadata": {},
   "outputs": [],
   "source": [
    "from sklearn.preprocessing import RobustScaler, StandardScaler, MinMaxScaler, Normalizer\n",
    "\n",
    "# scaler = StandardScaler() # Knn best k: weighted avg- uniform- 0.7328 / distance- 0.7321 # SVM: weighted avg - 0.7400  # Perceptron - 0.67\n",
    "# scaler = MinMaxScaler() # Knn best k: weighted avg- uniform- 0.7268 / distance- 0.7262 # SVM: weighted avg - 0.7424  # Perceptron - 0.65\n",
    "scaler = RobustScaler() # Knn best k:weighted avg- uniform- 0.7306 / distance- 0.7306 # SVM: weighted avg - 0.7464  # Perceptron - 0.64\n",
    "# scaler = Normalizer() # Knn best k: weighted avg- uniform- 0.7009 / distance- 0.7250  # SVM: weighted avg - 0.6969  # Perceptron - 0.63\n",
    "X_train = scaler.fit_transform(X_train)\n",
    "X_test = scaler.transform(X_test)\n",
    "# fit and transform both train and test"
   ]
  },
  {
   "cell_type": "markdown",
   "metadata": {},
   "source": [
    "KNeighborsClassifier parameters:\n",
    "    \n",
    "    n_neighbors = (1, 3, 5, 7, 9, 11, 13)\n",
    "    weights = 'uniform' or 'distance'\n",
    "    algorithm = 'auto' or 'ball_tree' or 'kd_tree' or 'brute'\n",
    "    leaf_size = 30\n",
    "    p = 1, 2, 3\n",
    "    metric = 'minkowski' or 'euclidean' or 'manhattan'\n",
    "    metric_params = None\n",
    "    n_jobs = -1\n"
   ]
  },
  {
   "cell_type": "code",
   "execution_count": 5,
   "metadata": {},
   "outputs": [
    {
     "name": "stdout",
     "output_type": "stream",
     "text": [
      "KNN:  0.9615\n"
     ]
    }
   ],
   "source": [
    "knnModel = KNeighborsClassifier()  \n",
    "knnModel.fit(X_train,y_train) \n",
    "knn_y_pred_train = knnModel.predict(X_train)\n",
    "knn_y_pred_test = knnModel.predict(X_test)\n",
    "print(\"KNN: \", accuracy_score(y_test, knn_y_pred_test))"
   ]
  },
  {
   "cell_type": "markdown",
   "metadata": {},
   "source": [
    "### https://www.youtube.com/watch?v=HHYDLni7UMY"
   ]
  },
  {
   "cell_type": "code",
   "execution_count": 7,
   "metadata": {},
   "outputs": [
    {
     "name": "stdout",
     "output_type": "stream",
     "text": [
      "Training-set accuracy score: 0.9719\n",
      "testing-set accuracy score: 0.9615\n",
      "Training set score: 0.9719\n",
      "Test set score: 0.9615\n",
      "\n",
      "Difference:  0.010375000000000023\n"
     ]
    }
   ],
   "source": [
    "model = knnModel\n",
    "%run -i \"./../_overfitting_underfitting.py\""
   ]
  },
  {
   "cell_type": "code",
   "execution_count": null,
   "metadata": {},
   "outputs": [],
   "source": []
  }
 ],
 "metadata": {
  "kernelspec": {
   "display_name": "Python 3.10.4 64-bit",
   "language": "python",
   "name": "python3"
  },
  "language_info": {
   "codemirror_mode": {
    "name": "ipython",
    "version": 3
   },
   "file_extension": ".py",
   "mimetype": "text/x-python",
   "name": "python",
   "nbconvert_exporter": "python",
   "pygments_lexer": "ipython3",
   "version": "3.10.4"
  },
  "orig_nbformat": 4,
  "vscode": {
   "interpreter": {
    "hash": "405d13d09847d50ecc6343eff00cc7200d674373355acea1c385012d3714c1ef"
   }
  }
 },
 "nbformat": 4,
 "nbformat_minor": 2
}
