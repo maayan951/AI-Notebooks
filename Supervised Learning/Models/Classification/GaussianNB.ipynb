{
 "cells": [
  {
   "cell_type": "code",
   "execution_count": null,
   "metadata": {},
   "outputs": [],
   "source": [
    "from sklearn.naive_bayes import GaussianNB"
   ]
  }
 ],
 "metadata": {
  "kernelspec": {
   "display_name": "Python 3.10.4 64-bit",
   "language": "python",
   "name": "python3"
  },
  "language_info": {
   "name": "python",
   "version": "3.10.4"
  },
  "orig_nbformat": 4,
  "vscode": {
   "interpreter": {
    "hash": "939696d70912113cfba5abfc38042432dae0b1972083a020fa8012dfb8da49d0"
   }
  }
 },
 "nbformat": 4,
 "nbformat_minor": 2
}
