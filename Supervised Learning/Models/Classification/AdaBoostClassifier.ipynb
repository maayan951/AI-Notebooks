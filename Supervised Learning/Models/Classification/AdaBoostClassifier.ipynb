{
 "cells": [
  {
   "cell_type": "code",
   "execution_count": 18,
   "metadata": {},
   "outputs": [],
   "source": [
    "from sklearn.ensemble import AdaBoostClassifier\n",
    "from sklearn.tree import DecisionTreeClassifier\n",
    "from sklearn.model_selection import train_test_split\n",
    "from sklearn.metrics import classification_report, ConfusionMatrixDisplay, accuracy_score, confusion_matrix\n",
    "import matplotlib.pyplot as plt\n",
    "import seaborn as sns"
   ]
  },
  {
   "cell_type": "code",
   "execution_count": 19,
   "metadata": {},
   "outputs": [
    {
     "name": "stdout",
     "output_type": "stream",
     "text": [
      "start:  (10000, 10) (10000,)\n"
     ]
    }
   ],
   "source": [
    "from sklearn.datasets import make_classification    #for generating fake data\n",
    "X, y = make_classification(n_samples=10000, n_features=10,n_informative=3)\n",
    "print(\"start: \",X.shape, y.shape)"
   ]
  },
  {
   "cell_type": "code",
   "execution_count": 20,
   "metadata": {},
   "outputs": [
    {
     "name": "stdout",
     "output_type": "stream",
     "text": [
      "train:  (8000, 10) (8000,)\n",
      "test:   (2000, 10) (2000,)\n"
     ]
    }
   ],
   "source": [
    "X_train,X_test,y_train,y_test=train_test_split(X,y,test_size=0.2, random_state = 42)\n",
    "print(\"train: \", X_train.shape, y_train.shape)\n",
    "print(\"test:  \" , X_test.shape, y_test.shape)"
   ]
  },
  {
   "cell_type": "code",
   "execution_count": 21,
   "metadata": {},
   "outputs": [],
   "source": [
    "from sklearn.preprocessing import RobustScaler, StandardScaler, MinMaxScaler, Normalizer\n",
    "\n",
    "# scaler = StandardScaler() # Knn best k: weighted avg- uniform- 0.7328 / distance- 0.7321 # SVM: weighted avg - 0.7400  # Perceptron - 0.67\n",
    "# scaler = MinMaxScaler() # Knn best k: weighted avg- uniform- 0.7268 / distance- 0.7262 # SVM: weighted avg - 0.7424  # Perceptron - 0.65\n",
    "scaler = RobustScaler() # Knn best k:weighted avg- uniform- 0.7306 / distance- 0.7306 # SVM: weighted avg - 0.7464  # Perceptron - 0.64\n",
    "# scaler = Normalizer() # Knn best k: weighted avg- uniform- 0.7009 / distance- 0.7250  # SVM: weighted avg - 0.6969  # Perceptron - 0.63\n",
    "X_train = scaler.fit_transform(X_train)\n",
    "X_test = scaler.transform(X_test)\n",
    "# fit and transform both train and test"
   ]
  },
  {
   "cell_type": "code",
   "execution_count": 25,
   "metadata": {},
   "outputs": [
    {
     "name": "stdout",
     "output_type": "stream",
     "text": [
      "Ada Accuracy on train set: 0.952375\n",
      "Ada Accuracy on test set: 0.9415\n",
      "Ada Difference: 0.010874999999999968\n"
     ]
    }
   ],
   "source": [
    "ada_boost_classifier = AdaBoostClassifier(\n",
    "    DecisionTreeClassifier(max_depth=1),\n",
    "    n_estimators=200,\n",
    "    algorithm=\"SAMME.R\", \n",
    "    learning_rate=0.5, \n",
    "    random_state=42\n",
    ")\n",
    "ada_boost_classifier.fit(X_train, y_train)\n",
    "\n",
    "\n",
    "ada_y_pred_test = ada_boost_classifier.predict(X_test)\n",
    "ada_y_pred_train = ada_boost_classifier.predict(X_train)\n",
    "\n",
    "print(f'Ada Accuracy on train set: {accuracy_score(y_train, ada_y_pred_train)}')\n",
    "print(f'Ada Accuracy on test set: {accuracy_score(y_test, ada_y_pred_test)}')\n",
    "print(f'Ada Difference: {abs(accuracy_score(y_train, ada_y_pred_train) - accuracy_score(y_test, ada_y_pred_test))}')"
   ]
  },
  {
   "cell_type": "code",
   "execution_count": 26,
   "metadata": {},
   "outputs": [
    {
     "name": "stdout",
     "output_type": "stream",
     "text": [
      "              precision    recall  f1-score   support\n",
      "\n",
      "           0       0.95      0.94      0.94       986\n",
      "           1       0.94      0.95      0.94      1014\n",
      "\n",
      "    accuracy                           0.94      2000\n",
      "   macro avg       0.94      0.94      0.94      2000\n",
      "weighted avg       0.94      0.94      0.94      2000\n",
      "\n"
     ]
    },
    {
     "data": {
      "image/png": "[encoded data removed]",
      "text/plain": [
       "<Figure size 432x288 with 2 Axes>"
      ]
     },
     "metadata": {
      "needs_background": "light"
     },
     "output_type": "display_data"
    }
   ],
   "source": [
    "# classification_report\n",
    "print(classification_report(y_test, ada_y_pred_test))\n",
    "\n",
    "# confusion matrix\n",
    "cm = confusion_matrix(y_test, ada_y_pred_test)\n",
    "sns.heatmap(cm, annot=True, fmt='d')\n",
    "plt.show()"
   ]
  },
  {
   "cell_type": "code",
   "execution_count": 27,
   "metadata": {},
   "outputs": [
    {
     "name": "stdout",
     "output_type": "stream",
     "text": [
      "              precision    recall  f1-score   support\n",
      "\n",
      "           0       0.96      0.94      0.95      4012\n",
      "           1       0.95      0.96      0.95      3988\n",
      "\n",
      "    accuracy                           0.95      8000\n",
      "   macro avg       0.95      0.95      0.95      8000\n",
      "weighted avg       0.95      0.95      0.95      8000\n",
      "\n"
     ]
    },
    {
     "data": {
      "image/png": "[encoded data removed]",
      "text/plain": [
       "<Figure size 432x288 with 2 Axes>"
      ]
     },
     "metadata": {
      "needs_background": "light"
     },
     "output_type": "display_data"
    }
   ],
   "source": [
    "# classification_report\n",
    "print(classification_report(y_train, ada_y_pred_train))\n",
    "\n",
    "# confusion matrix\n",
    "cm = confusion_matrix(y_train, ada_y_pred_train)\n",
    "sns.heatmap(cm, annot=True, fmt='d')\n",
    "plt.show()"
   ]
  }
 ],
 "metadata": {
  "kernelspec": {
   "display_name": "Python 3.10.4 64-bit",
   "language": "python",
   "name": "python3"
  },
  "language_info": {
   "codemirror_mode": {
    "name": "ipython",
    "version": 3
   },
   "file_extension": ".py",
   "mimetype": "text/x-python",
   "name": "python",
   "nbconvert_exporter": "python",
   "pygments_lexer": "ipython3",
   "version": "3.10.4"
  },
  "orig_nbformat": 4,
  "vscode": {
   "interpreter": {
    "hash": "aee8b7b246df8f9039afb4144a1f6fd8d2ca17a180786b69acc140d282b71a49"
   }
  }
 },
 "nbformat": 4,
 "nbformat_minor": 2
}
