{
 "cells": [
  {
   "cell_type": "markdown",
   "metadata": {},
   "source": [
    "# `Offload` a model to MongoDB"
   ]
  },
  {
   "cell_type": "code",
   "execution_count": null,
   "metadata": {},
   "outputs": [],
   "source": [
    "\n",
    "def save_model_to_db(model, client, db, dbconnection, model_type, model_name, accuracy, params):\n",
    "    import pickle\n",
    "    from pymongo import MongoClient\n",
    "    import datetime as dt\n",
    "    from pprint import pprint as pp\n",
    "\n",
    "    # pickling the model\n",
    "    pickled_model = pickle.dumps(model)\n",
    "    \n",
    "    # creating connection\n",
    "    myclient = MongoClient(client)\n",
    "    # creating database in mongodb\n",
    "    mydb = myclient[db]\n",
    "    # creating collection\n",
    "    mycon = mydb[dbconnection]\n",
    "    \n",
    "    # if there is already a model with the same model_type and a worse or equal accuracy, delete it\n",
    "    mycon.delete_many({\"model_type\": model_type, \"accuracy\": {\"$lte\": accuracy}})\n",
    "    \n",
    "    # creating a dictionary to insert\n",
    "    info = mycon.insert_one({\n",
    "                                \"model\": pickled_model,\n",
    "                                'created_time':dt.datetime.now(),\n",
    "                                'model_type': model_type,\n",
    "                                'model_name': model_name,\n",
    "                                'accuracy': accuracy,\n",
    "                                'params': params\n",
    "                                })\n",
    "    print(info.inserted_id, ' saved with this id successfully!')\n",
    "\n",
    "    details = {\n",
    "        'inserted_id':info.inserted_id,\n",
    "        'created_time':dt.datetime.now(),\n",
    "        'model_type': model_type,\n",
    "        'model_name':model_name,\n",
    "        'accuracy': accuracy,\n",
    "        'params':params\n",
    "    }\n",
    "    pp(details)\n",
    "    \n",
    "    return details"
   ]
  },
  {
   "cell_type": "markdown",
   "metadata": {},
   "source": [
    "### Example on how to use"
   ]
  },
  {
   "cell_type": "code",
   "execution_count": null,
   "metadata": {},
   "outputs": [],
   "source": [
    "model = 'KNeighborsClassifier'\n",
    "best_accuracy = 0.99\n",
    "best_parameters = {'n_neighbors':5, 'p':2}\n",
    "\n",
    "SVM_saved = save_model_to_db(model, \n",
    "                             \"mongodb://localhost:27017\",   # mongodb url\n",
    "                             'DBName', \n",
    "                             'CollectionName',\n",
    "                             'ModelType', \n",
    "                             'ModelName', \n",
    "                             best_accuracy, \n",
    "                             best_parameters)"
   ]
  }
 ],
 "metadata": {
  "kernelspec": {
   "display_name": "Python 3.10.4 64-bit",
   "language": "python",
   "name": "python3"
  },
  "language_info": {
   "name": "python",
   "version": "3.10.4"
  },
  "orig_nbformat": 4,
  "vscode": {
   "interpreter": {
    "hash": "405d13d09847d50ecc6343eff00cc7200d674373355acea1c385012d3714c1ef"
   }
  }
 },
 "nbformat": 4,
 "nbformat_minor": 2
}
