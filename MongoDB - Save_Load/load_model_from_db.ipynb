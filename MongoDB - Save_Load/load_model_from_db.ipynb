{
 "cells": [
  {
   "cell_type": "code",
   "execution_count": null,
   "metadata": {},
   "outputs": [],
   "source": [
    "def load_model_from_db(client, db, dbconnection):\n",
    "    import pickle\n",
    "    from pymongo import MongoClient\n",
    "    import pandas as pd\n",
    "\n",
    "    # creating connection\n",
    "    myclient = MongoClient(client)\n",
    "    mydb = myclient[db]\n",
    "    mycon = mydb[dbconnection]\n",
    "    \n",
    "    mydoc = mycon.find()\n",
    "    \n",
    "    df = pd.DataFrame(list(mydoc))\n",
    "    df.model = df.model.apply(lambda x: pickle.loads(x))\n",
    "    \n",
    "    return df"
   ]
  },
  {
   "cell_type": "code",
   "execution_count": null,
   "metadata": {},
   "outputs": [],
   "source": [
    "models = load_model_from_db(client=\"mongodb://localhost:27017\",     # mongodb url\n",
    "                            db=\"DBName\", \n",
    "                            dbconnection=\"CollectionName\")"
   ]
  },
  {
   "cell_type": "code",
   "execution_count": null,
   "metadata": {},
   "outputs": [],
   "source": [
    "from pprint import pprint as pp\n",
    "\n",
    "# loading the best model from mongoDB\n",
    "\n",
    "max_index = models['accuracy'].idxmax() # index of the model with highest accuracy\n",
    "best_accuracy = models.accuracy[max_index] # highest accuracy\n",
    "best_model_type = models.model_type[max_index] # model type\n",
    "best_model_name = models.model_name[max_index] # model name\n",
    "best_model = models.model[max_index]    # model with highest accuracy\n",
    "best_params = models.params[max_index] # model parameters\n",
    "\n",
    "print(f\"Best model type: {best_model_type} \\nBest model name: {best_model_name} \\nBest model accuracy: {best_accuracy}\")\n",
    "print('Best Params:')\n",
    "pp(best_params)\n",
    "\n",
    "best_model             # load the model"
   ]
  }
 ],
 "metadata": {
  "kernelspec": {
   "display_name": "Python 3.10.4 64-bit",
   "language": "python",
   "name": "python3"
  },
  "language_info": {
   "name": "python",
   "version": "3.10.4"
  },
  "orig_nbformat": 4,
  "vscode": {
   "interpreter": {
    "hash": "aee8b7b246df8f9039afb4144a1f6fd8d2ca17a180786b69acc140d282b71a49"
   }
  }
 },
 "nbformat": 4,
 "nbformat_minor": 2
}
