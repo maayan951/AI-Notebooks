{
 "cells": [
  {
   "cell_type": "code",
   "execution_count": null,
   "metadata": {},
   "outputs": [],
   "source": []
  }
 ],
 "metadata": {
  "kernelspec": {
   "display_name": "Python 3.9.1 64-bit",
   "language": "python",
   "name": "python3"
  },
  "language_info": {
   "name": "python",
   "version": "3.9.1"
  },
  "orig_nbformat": 4,
  "vscode": {
   "interpreter": {
    "hash": "abac7209dacecf3cb5c062a7bcac1bc13a9807d4ff2b5727e04b43ee35df5ab8"
   }
  }
 },
 "nbformat": 4,
 "nbformat_minor": 2
}
