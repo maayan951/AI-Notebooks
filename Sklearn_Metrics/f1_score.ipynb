{
 "cells": [
  {
   "cell_type": "markdown",
   "metadata": {},
   "source": [
    "# What is the F1-score?"
   ]
  },
  {
   "cell_type": "markdown",
   "metadata": {},
   "source": [
    "The F1-score combines the precision and recall of a classifier into a single metric by taking their harmonic mean. It is primarily used to compare the performance of two classifiers. Suppose that classifier A has a higher recall, and classifier B has higher precision. In this case, the F1-scores for both the classifiers can be used to determine which one produces better results."
   ]
  },
  {
   "cell_type": "markdown",
   "metadata": {},
   "source": [
    "***"
   ]
  },
  {
   "cell_type": "markdown",
   "metadata": {},
   "source": [
    "### The F1-score of a classification model is calculated as follows:\n",
    "\n",
    "F1-score = 2(P * R) / (P+R)\n",
    "​\n",
    "\n",
    "P = the precision\n",
    "\n",
    "R = the recall of the classification model"
   ]
  },
  {
   "cell_type": "markdown",
   "metadata": {},
   "source": [
    "<a herf='https://www.educative.io/answers/what-is-the-f1-score'>What is the f1-score</a>"
   ]
  },
  {
   "cell_type": "markdown",
   "metadata": {},
   "source": [
    "<img src='https://www.gstatic.com/education/formulas2/443397389/en/f1_score.svg'>"
   ]
  }
 ],
 "metadata": {
  "kernelspec": {
   "display_name": "Python 3.10.4 64-bit",
   "language": "python",
   "name": "python3"
  },
  "language_info": {
   "name": "python",
   "version": "3.10.4"
  },
  "orig_nbformat": 4,
  "vscode": {
   "interpreter": {
    "hash": "405d13d09847d50ecc6343eff00cc7200d674373355acea1c385012d3714c1ef"
   }
  }
 },
 "nbformat": 4,
 "nbformat_minor": 2
}
